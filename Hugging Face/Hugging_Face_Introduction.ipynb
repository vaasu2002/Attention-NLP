{
  "cells": [
    {
      "cell_type": "code",
      "execution_count": null,
      "metadata": {
        "id": "kQGVASFq4hAP",
        "outputId": "e5bf6636-5093-4c7d-d6fa-0e68259a2ded",
        "colab": {
          "base_uri": "https://localhost:8080/"
        }
      },
      "outputs": [
        {
          "output_type": "stream",
          "name": "stdout",
          "text": [
            "\u001b[K     |████████████████████████████████| 4.0 MB 38.2 MB/s \n",
            "\u001b[K     |████████████████████████████████| 77 kB 7.8 MB/s \n",
            "\u001b[K     |████████████████████████████████| 895 kB 72.1 MB/s \n",
            "\u001b[K     |████████████████████████████████| 596 kB 88.4 MB/s \n",
            "\u001b[K     |████████████████████████████████| 6.6 MB 64.2 MB/s \n",
            "\u001b[?25h"
          ]
        }
      ],
      "source": [
        "! pip install -q transformers"
      ]
    },
    {
      "cell_type": "code",
      "source": [
        "# sentiment-analysis\n",
        "from transformers import pipeline\n",
        "classifier = pipeline(\"sentiment-analysis\") # distilbert-base-uncased-finetuned-sst-2-english (default)\n",
        "classifier([\"I've been waiting for a Hugging Face course since many months\",\"I don't hate it\"])"
      ],
      "metadata": {
        "colab": {
          "base_uri": "https://localhost:8080/"
        },
        "id": "VycsKVi067W4",
        "outputId": "8618e90a-8136-4b48-f48f-70f69c0194d5"
      },
      "execution_count": 12,
      "outputs": [
        {
          "output_type": "stream",
          "name": "stderr",
          "text": [
            "No model was supplied, defaulted to distilbert-base-uncased-finetuned-sst-2-english (https://huggingface.co/distilbert-base-uncased-finetuned-sst-2-english)\n"
          ]
        },
        {
          "output_type": "execute_result",
          "data": {
            "text/plain": [
              "[{'label': 'POSITIVE', 'score': 0.9690589308738708},\n",
              " {'label': 'POSITIVE', 'score': 0.9967384934425354}]"
            ]
          },
          "metadata": {},
          "execution_count": 12
        }
      ]
    },
    {
      "cell_type": "code",
      "source": [
        "# The zero-shot-classification pipeline lets us select the labels for classification\n",
        "from transformers import pipeline\n",
        "classifier = pipeline(\"zero-shot-classification\")  # facebook/bart-large-mnli (default)\n",
        "\n",
        "classifier(\"This is a course about the Transformers library\", candidate_labels=[\"education\", \"politics\", \"business\"],)"
      ],
      "metadata": {
        "colab": {
          "base_uri": "https://localhost:8080/"
        },
        "id": "BsanzsOm67ZY",
        "outputId": "0b884fc4-50c9-4cad-b951-9f0cb9ed731c"
      },
      "execution_count": 3,
      "outputs": [
        {
          "output_type": "stream",
          "name": "stderr",
          "text": [
            "No model was supplied, defaulted to facebook/bart-large-mnli (https://huggingface.co/facebook/bart-large-mnli)\n"
          ]
        },
        {
          "output_type": "execute_result",
          "data": {
            "text/plain": [
              "{'labels': ['education', 'business', 'politics'],\n",
              " 'scores': [0.8445995450019836, 0.111973837018013, 0.043426647782325745],\n",
              " 'sequence': 'This is a course about the Transformers library'}"
            ]
          },
          "metadata": {},
          "execution_count": 3
        }
      ]
    },
    {
      "cell_type": "code",
      "source": [
        "from transformers import pipeline\n",
        "generator = pipeline(\"text-generation\")\n",
        "generator(\"In this course, we will teach you how to\")"
      ],
      "metadata": {
        "colab": {
          "base_uri": "https://localhost:8080/"
        },
        "id": "utjD5QOy67c-",
        "outputId": "3aec665e-fa2e-492e-9e56-951fce8307d2"
      },
      "execution_count": 4,
      "outputs": [
        {
          "output_type": "stream",
          "name": "stderr",
          "text": [
            "No model was supplied, defaulted to gpt2 (https://huggingface.co/gpt2)\n",
            "Setting `pad_token_id` to `eos_token_id`:50256 for open-end generation.\n"
          ]
        },
        {
          "output_type": "execute_result",
          "data": {
            "text/plain": [
              "[{'generated_text': \"In this course, we will teach you how to make a real-valued stock for the value of both your investment in it and the market's value.\\n\\nHow to Make a Realvalued Stock\\n\\nOn each day, I will teach you\"}]"
            ]
          },
          "metadata": {},
          "execution_count": 4
        }
      ]
    },
    {
      "cell_type": "code",
      "source": [
        "from transformers import pipeline\n",
        "generator = pipeline(\"text-generation\", model=\"distilgpt2\")\n",
        "\n",
        "generator(\"In this course, we will teach you how to\",\n",
        "  max_length=30, # Max length of generated sentences\n",
        "  num_return_sequences=2) # number of sentences to be generated"
      ],
      "metadata": {
        "colab": {
          "base_uri": "https://localhost:8080/"
        },
        "id": "OO8TcMp867fg",
        "outputId": "93283dcc-f306-4b10-bbff-923a18105826"
      },
      "execution_count": 5,
      "outputs": [
        {
          "output_type": "stream",
          "name": "stderr",
          "text": [
            "Setting `pad_token_id` to `eos_token_id`:50256 for open-end generation.\n"
          ]
        },
        {
          "output_type": "execute_result",
          "data": {
            "text/plain": [
              "[{'generated_text': 'In this course, we will teach you how to control your own body, body. For example, if you are eating a good salad, it will'},\n",
              " {'generated_text': 'In this course, we will teach you how to use the technology we are getting ready to run in your community.\\n\\n\\nAs part of our'}]"
            ]
          },
          "metadata": {},
          "execution_count": 5
        }
      ]
    },
    {
      "cell_type": "code",
      "source": [
        "from transformers import pipeline\n",
        "unmasker = pipeline(\"fill-mask\")\n",
        "\n",
        "unmasker(\"My <mask> is Vaasu\", top_k=2) # Generating text by guessing the next word is one of the pre trained objective"
      ],
      "metadata": {
        "colab": {
          "base_uri": "https://localhost:8080/"
        },
        "id": "q572b2Tl8heF",
        "outputId": "c0d297a7-1a2e-4286-bfd3-be05bacf78a7"
      },
      "execution_count": 6,
      "outputs": [
        {
          "output_type": "stream",
          "name": "stderr",
          "text": [
            "No model was supplied, defaulted to distilroberta-base (https://huggingface.co/distilroberta-base)\n"
          ]
        },
        {
          "output_type": "execute_result",
          "data": {
            "text/plain": [
              "[{'score': 0.6784117221832275,\n",
              "  'sequence': 'My name is Vaasu',\n",
              "  'token': 766,\n",
              "  'token_str': ' name'},\n",
              " {'score': 0.0907612144947052,\n",
              "  'sequence': 'My nickname is Vaasu',\n",
              "  'token': 17911,\n",
              "  'token_str': ' nickname'}]"
            ]
          },
          "metadata": {},
          "execution_count": 6
        }
      ]
    },
    {
      "cell_type": "code",
      "source": [
        "#  The NER pipeline identifies entities such as persons, organizations or locations in a sentence.\n",
        "\n",
        "from transformers import pipeline\n",
        "ner = pipeline(\"ner\", grouped_entities=True) # Name Entity Recognition\n",
        "\n",
        "ner(\"My name is Sylvain and I work at Hugging Face in Brooklyn.\")\n",
        "\n",
        "# My name is Sylvain(PERSON) and I work at Hugging Face(ORGANIZAION) in Brooklyn(LOCATION)."
      ],
      "metadata": {
        "colab": {
          "base_uri": "https://localhost:8080/"
        },
        "id": "nNsWu3Fm8hgn",
        "outputId": "86c2ae1f-2082-450a-e1af-333814d6a1a1"
      },
      "execution_count": 11,
      "outputs": [
        {
          "output_type": "stream",
          "name": "stderr",
          "text": [
            "No model was supplied, defaulted to dbmdz/bert-large-cased-finetuned-conll03-english (https://huggingface.co/dbmdz/bert-large-cased-finetuned-conll03-english)\n",
            "/usr/local/lib/python3.7/dist-packages/transformers/pipelines/token_classification.py:136: UserWarning: `grouped_entities` is deprecated and will be removed in version v5.0.0, defaulted to `aggregation_strategy=\"AggregationStrategy.SIMPLE\"` instead.\n",
            "  f'`grouped_entities` is deprecated and will be removed in version v5.0.0, defaulted to `aggregation_strategy=\"{aggregation_strategy}\"` instead.'\n"
          ]
        },
        {
          "output_type": "execute_result",
          "data": {
            "text/plain": [
              "[{'end': 18,\n",
              "  'entity_group': 'PER',\n",
              "  'score': 0.9981694,\n",
              "  'start': 11,\n",
              "  'word': 'Sylvain'},\n",
              " {'end': 45,\n",
              "  'entity_group': 'ORG',\n",
              "  'score': 0.9796019,\n",
              "  'start': 33,\n",
              "  'word': 'Hugging Face'},\n",
              " {'end': 57,\n",
              "  'entity_group': 'LOC',\n",
              "  'score': 0.9932106,\n",
              "  'start': 49,\n",
              "  'word': 'Brooklyn'}]"
            ]
          },
          "metadata": {},
          "execution_count": 11
        }
      ]
    },
    {
      "cell_type": "code",
      "source": [
        "from transformers import pipeline\n",
        "summarizer = pipeline(\"summarization\")\n",
        "summarizer('''\n",
        "America has changed dramatically during recent years. Not only has the number of\n",
        "graduates in traditional engineering disciplines such as mechanical, civil,\n",
        "electrical, chemical, and aeronautical engineering declined, but in most of\n",
        "the premier American universities engineering curricula now concentrate on\n",
        "and encourage largely the study of engineering science. As a result, there\n",
        "are declining offerings in engineering subjects dealing with infrastructure,\n",
        "the environment, and related issues, and greater concentration on high\n",
        "technology subjects, largely supporting increasingly complex scientific\n",
        "developments. While the latter is important, it should not be at the expense\n",
        "of more traditional engineering.\n",
        "Rapidly developing economies such as China and India, as well as other\n",
        "industrial countries in Europe and Asia, continue to encourage and advance\n",
        "the teaching of engineering. Both China and India, respectively, graduate\n",
        "six and eight times as many traditional engineers as does the United States.\n",
        "Other industrial countries at minimum maintain their output, while America\n",
        "suffers an increasingly serious decline in the number of engineering graduates\n",
        "and a lack of well-educated engineers.\n",
        "''')"
      ],
      "metadata": {
        "colab": {
          "base_uri": "https://localhost:8080/"
        },
        "id": "eCwUtIbB8hjJ",
        "outputId": "9131b1f3-c3ec-4584-a6b7-f724aa7e3919"
      },
      "execution_count": 8,
      "outputs": [
        {
          "output_type": "stream",
          "name": "stderr",
          "text": [
            "No model was supplied, defaulted to sshleifer/distilbart-cnn-12-6 (https://huggingface.co/sshleifer/distilbart-cnn-12-6)\n"
          ]
        },
        {
          "output_type": "execute_result",
          "data": {
            "text/plain": [
              "[{'summary_text': ' America has changed dramatically during recent years . The number of engineering graduates in the U.S. has declined in traditional engineering disciplines such as mechanical, civil, electrical, chemical, and aeronautical engineering . Rapidly developing economies such as China and India, as well as other industrialized countries, continue to encourage and advance the teaching of engineering .'}]"
            ]
          },
          "metadata": {},
          "execution_count": 8
        }
      ]
    },
    {
      "cell_type": "code",
      "source": [
        "! pip install -q datasets transformers[sentencepiece]"
      ],
      "metadata": {
        "colab": {
          "base_uri": "https://localhost:8080/"
        },
        "id": "gAAK4f09RkQx",
        "outputId": "881de7f8-4e14-40a9-8dd9-19d46033f862"
      },
      "execution_count": 22,
      "outputs": [
        {
          "output_type": "stream",
          "name": "stdout",
          "text": [
            "Requirement already satisfied: sentencepiece in /usr/local/lib/python3.7/dist-packages (0.1.96)\n"
          ]
        }
      ]
    },
    {
      "cell_type": "code",
      "source": [
        "!pip install sentencepiece"
      ],
      "metadata": {
        "id": "kG2D97UISTHG"
      },
      "execution_count": null,
      "outputs": []
    },
    {
      "cell_type": "code",
      "source": [
        "from transformers import pipeline\n",
        "\n",
        "translator = pipeline(\"translation\", model=\"Helsinki-NLP/opus-mt-fr-en\") # needs sentencepiece\n",
        "\n",
        "translator(\"Ce cours est produit par Hugging Face.\") #restart enviroment will work"
      ],
      "metadata": {
        "colab": {
          "base_uri": "https://localhost:8080/"
        },
        "id": "5ZplSKNM8hld",
        "outputId": "1a11bf39-81ca-42b1-8ac2-8cc49c81a249"
      },
      "execution_count": 9,
      "outputs": [
        {
          "output_type": "execute_result",
          "data": {
            "text/plain": [
              "[{'translation_text': 'This course is produced by Hugging Face.'}]"
            ]
          },
          "metadata": {},
          "execution_count": 9
        }
      ]
    }
  ],
  "metadata": {
    "colab": {
      "name": "Hugging Face Introduction",
      "provenance": [],
      "machine_shape": "hm",
      "collapsed_sections": []
    },
    "language_info": {
      "name": "python"
    },
    "kernelspec": {
      "name": "python3",
      "display_name": "Python 3"
    },
    "accelerator": "GPU"
  },
  "nbformat": 4,
  "nbformat_minor": 0
}