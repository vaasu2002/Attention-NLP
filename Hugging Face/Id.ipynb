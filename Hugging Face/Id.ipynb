{
  "cells": [
    {
      "cell_type": "markdown",
      "source": [
        "[Run the notebook](https://colab.research.google.com/drive/1jUb0Q8xL8fYeKEUP1JEh8r9o2u8n3q5S?usp=sharing)"
      ],
      "metadata": {
        "id": "5aVIP4RPBEzC"
      }
    },
    {
      "cell_type": "markdown",
      "metadata": {
        "id": "nnuj9ATdTaBB"
      },
      "source": [
        "Installing the Transformers and Datasets libraries to run this notebook.\n",
        "\n"
      ]
    },
    {
      "cell_type": "code",
      "execution_count": 2,
      "metadata": {
        "id": "zphKNjIvTaBD",
        "colab": {
          "base_uri": "https://localhost:8080/"
        },
        "outputId": "8857ff87-11cd-4f89-a4af-da671265f6a4"
      },
      "outputs": [
        {
          "output_type": "stream",
          "name": "stdout",
          "text": [
            "\u001b[K     |████████████████████████████████| 325 kB 10.0 MB/s \n",
            "\u001b[K     |████████████████████████████████| 4.0 MB 57.3 MB/s \n",
            "\u001b[K     |████████████████████████████████| 212 kB 68.3 MB/s \n",
            "\u001b[K     |████████████████████████████████| 1.1 MB 56.6 MB/s \n",
            "\u001b[K     |████████████████████████████████| 136 kB 67.7 MB/s \n",
            "\u001b[K     |████████████████████████████████| 77 kB 6.3 MB/s \n",
            "\u001b[K     |████████████████████████████████| 127 kB 60.5 MB/s \n",
            "\u001b[K     |████████████████████████████████| 144 kB 61.8 MB/s \n",
            "\u001b[K     |████████████████████████████████| 271 kB 65.3 MB/s \n",
            "\u001b[K     |████████████████████████████████| 94 kB 3.3 MB/s \n",
            "\u001b[K     |████████████████████████████████| 895 kB 52.4 MB/s \n",
            "\u001b[K     |████████████████████████████████| 596 kB 77.0 MB/s \n",
            "\u001b[K     |████████████████████████████████| 6.6 MB 39.9 MB/s \n",
            "\u001b[K     |████████████████████████████████| 1.2 MB 49.5 MB/s \n"
          ]
        }
      ],
      "source": [
        "! pip install -q datasets transformers[sentencepiece]"
      ]
    },
    {
      "cell_type": "code",
      "source": [
        "import warnings\n",
        "warnings.filterwarnings(\"ignore\")"
      ],
      "metadata": {
        "id": "GskbSKf6VUcy"
      },
      "execution_count": 3,
      "outputs": []
    },
    {
      "cell_type": "code",
      "execution_count": 4,
      "metadata": {
        "id": "_TdKfk1LTaBE",
        "outputId": "1e165dc5-263e-4792-83f1-256e33152e27",
        "colab": {
          "base_uri": "https://localhost:8080/",
          "height": 200,
          "referenced_widgets": [
            "2b04e8543a9f4e3e8a75a2983461b2aa",
            "4a9f667540254cbd8002b149bbd805c7",
            "808b7557d77c430c82f8116ff24ad101",
            "8b677c94d1794e0795daf501793ccf14",
            "d4e6843f2f17433aa304460adb781980",
            "d4b0f4f0299644e1bdb93ffd155add9f",
            "91ab83ec37c245fabb006832445c473c",
            "39465672ae8d402da8073f5095f5b56b",
            "1b83c30d4b794d788340f251f13d8e0d",
            "23a44f61a3e0448bac2966fd37b1b631",
            "e6d17b4de0eb49d79e77201456a46d31",
            "143a0f169b8b4ba9b03db3cb999f3cdf",
            "d1405a3e899f4891be54f4024edfe72e",
            "534dbdd034ef4d118e473387ec2666cf",
            "b2128903b19a40198e63f8f70563f573",
            "8cde3069eb5843fc8912dc08ac640bd4",
            "0475ac3f73bd4a38b6ccb13c9aea82cb",
            "42104efc29c74883bd96a3c4c6a29634",
            "b434768addcd4d0eb1d4b28e75a47fc5",
            "0fb9a28b8d7e45ddb76877eaa7562e8e",
            "d8b8bc4cecfc4694bd255d2a2837ba99",
            "e9c1b205ee2f4e93bfaed09120908c3c",
            "7d7a800ff1ff46bd8cc0cc162967564c",
            "d845a0bf339b417bab41e0e18a930fc2",
            "9c806a2ebf69421f98f59174a44ea17a",
            "7a042b47bd7a47ae92a1d6b2d2ad54a1",
            "ef48617534cd485285bab839fe972ee5",
            "f1c3668254aa460fbaea57c3edacbe6f",
            "87b11d37df0a418db8eb4fa0564151cf",
            "1ed056def7a5443ba5db5cb4cb7e3f62",
            "60d38e7fe34e4a998cd7194578ac8da7",
            "498afeeef1564d3fbf4fadfa191ca6ed",
            "27749d2e07dd41a0a09a28cdb10816a2",
            "1be2e891413748c1a5181854155e1e4d",
            "527743154200498fadc7c0c0c2ea6f02",
            "fb4fabb9c81f49faaf878b0723bf2acb",
            "a8218905722545f5bda88492d36ff362",
            "01f9063a9d8c4626873567fd9b8a0c3e",
            "292d4b714c384d87b69aeeb29cd6031a",
            "13c657b13ed44a369c74a5140dd768e9",
            "f6175939a07545d291a11de686a17af1",
            "4d4261ecfdfb4af89c628a79ad16de75",
            "22c63361b9b74f7bb139cc48e0f5904b",
            "de7c626320d444e89e0876c9da9419ba"
          ]
        }
      },
      "outputs": [
        {
          "output_type": "display_data",
          "data": {
            "text/plain": [
              "Downloading:   0%|          | 0.00/629 [00:00<?, ?B/s]"
            ],
            "application/vnd.jupyter.widget-view+json": {
              "version_major": 2,
              "version_minor": 0,
              "model_id": "2b04e8543a9f4e3e8a75a2983461b2aa"
            }
          },
          "metadata": {}
        },
        {
          "output_type": "display_data",
          "data": {
            "text/plain": [
              "Downloading:   0%|          | 0.00/255M [00:00<?, ?B/s]"
            ],
            "application/vnd.jupyter.widget-view+json": {
              "version_major": 2,
              "version_minor": 0,
              "model_id": "143a0f169b8b4ba9b03db3cb999f3cdf"
            }
          },
          "metadata": {}
        },
        {
          "output_type": "display_data",
          "data": {
            "text/plain": [
              "Downloading:   0%|          | 0.00/48.0 [00:00<?, ?B/s]"
            ],
            "application/vnd.jupyter.widget-view+json": {
              "version_major": 2,
              "version_minor": 0,
              "model_id": "7d7a800ff1ff46bd8cc0cc162967564c"
            }
          },
          "metadata": {}
        },
        {
          "output_type": "display_data",
          "data": {
            "text/plain": [
              "Downloading:   0%|          | 0.00/226k [00:00<?, ?B/s]"
            ],
            "application/vnd.jupyter.widget-view+json": {
              "version_major": 2,
              "version_minor": 0,
              "model_id": "1be2e891413748c1a5181854155e1e4d"
            }
          },
          "metadata": {}
        },
        {
          "output_type": "execute_result",
          "data": {
            "text/plain": [
              "[{'label': 'POSITIVE', 'score': 0.9598049521446228},\n",
              " {'label': 'NEGATIVE', 'score': 0.9994558691978455}]"
            ]
          },
          "metadata": {},
          "execution_count": 4
        }
      ],
      "source": [
        "from transformers import pipeline\n",
        "\n",
        "classifier = pipeline(\"sentiment-analysis\")\n",
        "classifier([\n",
        "    \"I've been waiting for a HuggingFace course my whole life.\", \n",
        "    \"I hate this so much!\"\n",
        "])"
      ]
    },
    {
      "cell_type": "markdown",
      "source": [
        "## Tokenization\n",
        "\n",
        "Raw Text -> Small chunks called Tokens -> Adding Specical Tokens(if models expects eg- BERT expects) -> Tokenizer matches each token to it's id in the vocabulary of that pre-trained model"
      ],
      "metadata": {
        "id": "DlhRQ82U_oCs"
      }
    },
    {
      "cell_type": "code",
      "execution_count": 5,
      "metadata": {
        "id": "SZ8jbtd2TaBH",
        "outputId": "9b1703df-5662-44a4-831d-4f5f65d091cb",
        "colab": {
          "base_uri": "https://localhost:8080/",
          "height": 164
        }
      },
      "outputs": [
        {
          "output_type": "stream",
          "name": "stdout",
          "text": [
            "dict_keys(['input_ids', 'attention_mask'])\n",
            "\n",
            "{'input_ids': tensor([[  101,  1045,  1005,  2310,  2042,  3403,  2005,  1037, 17662, 12172,\n",
            "          2607,  2026,  2878,  2166,  1012,   102],\n",
            "        [  101,  1045,  5223,  2023,  2061,  2172,   999,   102,     0,     0,\n",
            "             0,     0,     0,     0,     0,     0]]), 'attention_mask': tensor([[1, 1, 1, 1, 1, 1, 1, 1, 1, 1, 1, 1, 1, 1, 1, 1],\n",
            "        [1, 1, 1, 1, 1, 1, 1, 1, 0, 0, 0, 0, 0, 0, 0, 0]])}\n"
          ]
        },
        {
          "output_type": "execute_result",
          "data": {
            "text/plain": [
              "'\\nAny sentence larger than maximum model can handel is truncated if `truncation=True`\\n'"
            ],
            "application/vnd.google.colaboratory.intrinsic+json": {
              "type": "string"
            }
          },
          "metadata": {},
          "execution_count": 5
        }
      ],
      "source": [
        "from transformers import AutoTokenizer\n",
        "\n",
        "checkpoint = \"distilbert-base-uncased-finetuned-sst-2-english\" # SPECIFYING MODEL\n",
        "tokenizer = AutoTokenizer.from_pretrained(checkpoint)\n",
        "\n",
        "raw_inputs = [\n",
        "    \"I've been waiting for a HuggingFace course my whole life.\", \n",
        "    \"I hate this so much!\",\n",
        "]\n",
        "inputs = tokenizer(raw_inputs, padding=True, truncation=True, return_tensors=\"pt\") # return pytorch tensor\"\n",
        "print(inputs.keys())\n",
        "print()\n",
        "print(inputs)\n",
        "'''\n",
        "Any sentence larger than maximum model can handel is truncated if `truncation=True`\n",
        "'''"
      ]
    },
    {
      "cell_type": "markdown",
      "source": [
        "## MODEL"
      ],
      "metadata": {
        "id": "mJKD0-EZAwbQ"
      }
    },
    {
      "cell_type": "code",
      "execution_count": 6,
      "metadata": {
        "id": "l__4HfroTaBK",
        "outputId": "85688be6-9529-4466-dd52-74e81dcf33e4",
        "colab": {
          "base_uri": "https://localhost:8080/"
        }
      },
      "outputs": [
        {
          "output_type": "stream",
          "name": "stdout",
          "text": [
            "torch.Size([2, 16, 768])\n"
          ]
        }
      ],
      "source": [
        "from transformers import AutoModel\n",
        "\n",
        "checkpoint = \"distilbert-base-uncased-finetuned-sst-2-english\"\n",
        "model = AutoModel.from_pretrained(checkpoint)\n",
        "outputs = model(**inputs)\n",
        "print(outputs.last_hidden_state.shape)"
      ]
    },
    {
      "cell_type": "markdown",
      "source": [
        "`torch.Size([2, 16, 768])`\n",
        "\n",
        "Tensor has **2** sentences each of **16** **tokens** and indent size of model is **768**."
      ],
      "metadata": {
        "id": "nU4ay5bOZcqO"
      }
    },
    {
      "cell_type": "markdown",
      "source": [
        "#### USING AutoModelForXXX\n",
        "\n",
        "To get output link of the classification problem we will use `AutoModelForSequenceClassification` class it works exactly like `AutoModel` class expect it will give a model with classification head. There is one AutoModel class for each common NLP task in **transformers** library."
      ],
      "metadata": {
        "id": "1IUTW6ZodZn1"
      }
    },
    {
      "cell_type": "code",
      "execution_count": 7,
      "metadata": {
        "id": "blOm-Yx3TaBM",
        "outputId": "eaae252f-839d-4afc-ae95-0217c0e95b57",
        "colab": {
          "base_uri": "https://localhost:8080/"
        }
      },
      "outputs": [
        {
          "output_type": "stream",
          "name": "stdout",
          "text": [
            "tensor([[-1.5607,  1.6123],\n",
            "        [ 4.1692, -3.3464]], grad_fn=<AddmmBackward0>)\n"
          ]
        }
      ],
      "source": [
        "from transformers import AutoModelForSequenceClassification\n",
        "\n",
        "checkpoint = \"distilbert-base-uncased-finetuned-sst-2-english\"\n",
        "model = AutoModelForSequenceClassification.from_pretrained(checkpoint)\n",
        "outputs = model(**inputs)\n",
        "print(outputs.logits)"
      ]
    },
    {
      "cell_type": "markdown",
      "source": [
        "After giving model 2 sentences we get a tensor of size 2x2, one result for each sentence and for each possible label. The outputs are not probabilities yet. Each model of transformers library returns **logits**. To understand logits we need *postprocessing* which is last step of pipeline."
      ],
      "metadata": {
        "id": "YeFUHazgd24f"
      }
    },
    {
      "cell_type": "markdown",
      "source": [
        "## POSTPROCESSING\n",
        "\n",
        "To covert logits into probabilities softmax layers need to be applied to them. Which will transform them into postive numbers which will sum up to one."
      ],
      "metadata": {
        "id": "398fmVwm-l-F"
      }
    },
    {
      "cell_type": "code",
      "execution_count": 8,
      "metadata": {
        "id": "xqn4BPmBTaBR",
        "outputId": "0db62813-8ca1-455f-9381-e5c6ec628ae7",
        "colab": {
          "base_uri": "https://localhost:8080/"
        }
      },
      "outputs": [
        {
          "output_type": "stream",
          "name": "stdout",
          "text": [
            "tensor([[4.0195e-02, 9.5980e-01],\n",
            "        [9.9946e-01, 5.4418e-04]], grad_fn=<SoftmaxBackward0>)\n"
          ]
        }
      ],
      "source": [
        "import torch\n",
        "\n",
        "predictions = torch.nn.functional.softmax(outputs.logits, dim=-1)\n",
        "print(predictions)"
      ]
    },
    {
      "cell_type": "code",
      "execution_count": 9,
      "metadata": {
        "id": "NpJ0nhmMTaBT",
        "outputId": "1ddca855-4b14-47cb-89c2-9b01e591d740",
        "colab": {
          "base_uri": "https://localhost:8080/"
        }
      },
      "outputs": [
        {
          "output_type": "execute_result",
          "data": {
            "text/plain": [
              "{0: 'NEGATIVE', 1: 'POSITIVE'}"
            ]
          },
          "metadata": {},
          "execution_count": 9
        }
      ],
      "source": [
        "model.config.id2label"
      ]
    },
    {
      "cell_type": "markdown",
      "source": [
        "![image.png](data:image/png;base64,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)"
      ],
      "metadata": {
        "id": "Npz_jeUY_Nwm"
      }
    }
  ],
  "metadata": {
    "colab": {
      "name": "Inside PipeLine (PyTorch)",
      "provenance": [],
      "machine_shape": "hm"
    },
    "accelerator": "GPU",
    "language_info": {
      "name": "python"
    },
    "kernelspec": {
      "name": "python3",
      "display_name": "Python 3"
    },
    "widgets": {
      "application/vnd.jupyter.widget-state+json": {
        "2b04e8543a9f4e3e8a75a2983461b2aa": {
          "model_module": "@jupyter-widgets/controls",
          "model_name": "HBoxModel",
          "model_module_version": "1.5.0",
          "state": {
            "_dom_classes": [],
            "_model_module": "@jupyter-widgets/controls",
            "_model_module_version": "1.5.0",
            "_model_name": "HBoxModel",
            "_view_count": null,
            "_view_module": "@jupyter-widgets/controls",
            "_view_module_version": "1.5.0",
            "_view_name": "HBoxView",
            "box_style": "",
            "children": [
              "IPY_MODEL_4a9f667540254cbd8002b149bbd805c7",
              "IPY_MODEL_808b7557d77c430c82f8116ff24ad101",
              "IPY_MODEL_8b677c94d1794e0795daf501793ccf14"
            ],
            "layout": "IPY_MODEL_d4e6843f2f17433aa304460adb781980"
          }
        },
        "4a9f667540254cbd8002b149bbd805c7": {
          "model_module": "@jupyter-widgets/controls",
          "model_name": "HTMLModel",
          "model_module_version": "1.5.0",
          "state": {
            "_dom_classes": [],
            "_model_module": "@jupyter-widgets/controls",
            "_model_module_version": "1.5.0",
            "_model_name": "HTMLModel",
            "_view_count": null,
            "_view_module": "@jupyter-widgets/controls",
            "_view_module_version": "1.5.0",
            "_view_name": "HTMLView",
            "description": "",
            "description_tooltip": null,
            "layout": "IPY_MODEL_d4b0f4f0299644e1bdb93ffd155add9f",
            "placeholder": "​",
            "style": "IPY_MODEL_91ab83ec37c245fabb006832445c473c",
            "value": "Downloading: 100%"
          }
        },
        "808b7557d77c430c82f8116ff24ad101": {
          "model_module": "@jupyter-widgets/controls",
          "model_name": "FloatProgressModel",
          "model_module_version": "1.5.0",
          "state": {
            "_dom_classes": [],
            "_model_module": "@jupyter-widgets/controls",
            "_model_module_version": "1.5.0",
            "_model_name": "FloatProgressModel",
            "_view_count": null,
            "_view_module": "@jupyter-widgets/controls",
            "_view_module_version": "1.5.0",
            "_view_name": "ProgressView",
            "bar_style": "success",
            "description": "",
            "description_tooltip": null,
            "layout": "IPY_MODEL_39465672ae8d402da8073f5095f5b56b",
            "max": 629,
            "min": 0,
            "orientation": "horizontal",
            "style": "IPY_MODEL_1b83c30d4b794d788340f251f13d8e0d",
            "value": 629
          }
        },
        "8b677c94d1794e0795daf501793ccf14": {
          "model_module": "@jupyter-widgets/controls",
          "model_name": "HTMLModel",
          "model_module_version": "1.5.0",
          "state": {
            "_dom_classes": [],
            "_model_module": "@jupyter-widgets/controls",
            "_model_module_version": "1.5.0",
            "_model_name": "HTMLModel",
            "_view_count": null,
            "_view_module": "@jupyter-widgets/controls",
            "_view_module_version": "1.5.0",
            "_view_name": "HTMLView",
            "description": "",
            "description_tooltip": null,
            "layout": "IPY_MODEL_23a44f61a3e0448bac2966fd37b1b631",
            "placeholder": "​",
            "style": "IPY_MODEL_e6d17b4de0eb49d79e77201456a46d31",
            "value": " 629/629 [00:00&lt;00:00, 20.7kB/s]"
          }
        },
        "d4e6843f2f17433aa304460adb781980": {
          "model_module": "@jupyter-widgets/base",
          "model_name": "LayoutModel",
          "model_module_version": "1.2.0",
          "state": {
            "_model_module": "@jupyter-widgets/base",
            "_model_module_version": "1.2.0",
            "_model_name": "LayoutModel",
            "_view_count": null,
            "_view_module": "@jupyter-widgets/base",
            "_view_module_version": "1.2.0",
            "_view_name": "LayoutView",
            "align_content": null,
            "align_items": null,
            "align_self": null,
            "border": null,
            "bottom": null,
            "display": null,
            "flex": null,
            "flex_flow": null,
            "grid_area": null,
            "grid_auto_columns": null,
            "grid_auto_flow": null,
            "grid_auto_rows": null,
            "grid_column": null,
            "grid_gap": null,
            "grid_row": null,
            "grid_template_areas": null,
            "grid_template_columns": null,
            "grid_template_rows": null,
            "height": null,
            "justify_content": null,
            "justify_items": null,
            "left": null,
            "margin": null,
            "max_height": null,
            "max_width": null,
            "min_height": null,
            "min_width": null,
            "object_fit": null,
            "object_position": null,
            "order": null,
            "overflow": null,
            "overflow_x": null,
            "overflow_y": null,
            "padding": null,
            "right": null,
            "top": null,
            "visibility": null,
            "width": null
          }
        },
        "d4b0f4f0299644e1bdb93ffd155add9f": {
          "model_module": "@jupyter-widgets/base",
          "model_name": "LayoutModel",
          "model_module_version": "1.2.0",
          "state": {
            "_model_module": "@jupyter-widgets/base",
            "_model_module_version": "1.2.0",
            "_model_name": "LayoutModel",
            "_view_count": null,
            "_view_module": "@jupyter-widgets/base",
            "_view_module_version": "1.2.0",
            "_view_name": "LayoutView",
            "align_content": null,
            "align_items": null,
            "align_self": null,
            "border": null,
            "bottom": null,
            "display": null,
            "flex": null,
            "flex_flow": null,
            "grid_area": null,
            "grid_auto_columns": null,
            "grid_auto_flow": null,
            "grid_auto_rows": null,
            "grid_column": null,
            "grid_gap": null,
            "grid_row": null,
            "grid_template_areas": null,
            "grid_template_columns": null,
            "grid_template_rows": null,
            "height": null,
            "justify_content": null,
            "justify_items": null,
            "left": null,
            "margin": null,
            "max_height": null,
            "max_width": null,
            "min_height": null,
            "min_width": null,
            "object_fit": null,
            "object_position": null,
            "order": null,
            "overflow": null,
            "overflow_x": null,
            "overflow_y": null,
            "padding": null,
            "right": null,
            "top": null,
            "visibility": null,
            "width": null
          }
        },
        "91ab83ec37c245fabb006832445c473c": {
          "model_module": "@jupyter-widgets/controls",
          "model_name": "DescriptionStyleModel",
          "model_module_version": "1.5.0",
          "state": {
            "_model_module": "@jupyter-widgets/controls",
            "_model_module_version": "1.5.0",
            "_model_name": "DescriptionStyleModel",
            "_view_count": null,
            "_view_module": "@jupyter-widgets/base",
            "_view_module_version": "1.2.0",
            "_view_name": "StyleView",
            "description_width": ""
          }
        },
        "39465672ae8d402da8073f5095f5b56b": {
          "model_module": "@jupyter-widgets/base",
          "model_name": "LayoutModel",
          "model_module_version": "1.2.0",
          "state": {
            "_model_module": "@jupyter-widgets/base",
            "_model_module_version": "1.2.0",
            "_model_name": "LayoutModel",
            "_view_count": null,
            "_view_module": "@jupyter-widgets/base",
            "_view_module_version": "1.2.0",
            "_view_name": "LayoutView",
            "align_content": null,
            "align_items": null,
            "align_self": null,
            "border": null,
            "bottom": null,
            "display": null,
            "flex": null,
            "flex_flow": null,
            "grid_area": null,
            "grid_auto_columns": null,
            "grid_auto_flow": null,
            "grid_auto_rows": null,
            "grid_column": null,
            "grid_gap": null,
            "grid_row": null,
            "grid_template_areas": null,
            "grid_template_columns": null,
            "grid_template_rows": null,
            "height": null,
            "justify_content": null,
            "justify_items": null,
            "left": null,
            "margin": null,
            "max_height": null,
            "max_width": null,
            "min_height": null,
            "min_width": null,
            "object_fit": null,
            "object_position": null,
            "order": null,
            "overflow": null,
            "overflow_x": null,
            "overflow_y": null,
            "padding": null,
            "right": null,
            "top": null,
            "visibility": null,
            "width": null
          }
        },
        "1b83c30d4b794d788340f251f13d8e0d": {
          "model_module": "@jupyter-widgets/controls",
          "model_name": "ProgressStyleModel",
          "model_module_version": "1.5.0",
          "state": {
            "_model_module": "@jupyter-widgets/controls",
            "_model_module_version": "1.5.0",
            "_model_name": "ProgressStyleModel",
            "_view_count": null,
            "_view_module": "@jupyter-widgets/base",
            "_view_module_version": "1.2.0",
            "_view_name": "StyleView",
            "bar_color": null,
            "description_width": ""
          }
        },
        "23a44f61a3e0448bac2966fd37b1b631": {
          "model_module": "@jupyter-widgets/base",
          "model_name": "LayoutModel",
          "model_module_version": "1.2.0",
          "state": {
            "_model_module": "@jupyter-widgets/base",
            "_model_module_version": "1.2.0",
            "_model_name": "LayoutModel",
            "_view_count": null,
            "_view_module": "@jupyter-widgets/base",
            "_view_module_version": "1.2.0",
            "_view_name": "LayoutView",
            "align_content": null,
            "align_items": null,
            "align_self": null,
            "border": null,
            "bottom": null,
            "display": null,
            "flex": null,
            "flex_flow": null,
            "grid_area": null,
            "grid_auto_columns": null,
            "grid_auto_flow": null,
            "grid_auto_rows": null,
            "grid_column": null,
            "grid_gap": null,
            "grid_row": null,
            "grid_template_areas": null,
            "grid_template_columns": null,
            "grid_template_rows": null,
            "height": null,
            "justify_content": null,
            "justify_items": null,
            "left": null,
            "margin": null,
            "max_height": null,
            "max_width": null,
            "min_height": null,
            "min_width": null,
            "object_fit": null,
            "object_position": null,
            "order": null,
            "overflow": null,
            "overflow_x": null,
            "overflow_y": null,
            "padding": null,
            "right": null,
            "top": null,
            "visibility": null,
            "width": null
          }
        },
        "e6d17b4de0eb49d79e77201456a46d31": {
          "model_module": "@jupyter-widgets/controls",
          "model_name": "DescriptionStyleModel",
          "model_module_version": "1.5.0",
          "state": {
            "_model_module": "@jupyter-widgets/controls",
            "_model_module_version": "1.5.0",
            "_model_name": "DescriptionStyleModel",
            "_view_count": null,
            "_view_module": "@jupyter-widgets/base",
            "_view_module_version": "1.2.0",
            "_view_name": "StyleView",
            "description_width": ""
          }
        },
        "143a0f169b8b4ba9b03db3cb999f3cdf": {
          "model_module": "@jupyter-widgets/controls",
          "model_name": "HBoxModel",
          "model_module_version": "1.5.0",
          "state": {
            "_dom_classes": [],
            "_model_module": "@jupyter-widgets/controls",
            "_model_module_version": "1.5.0",
            "_model_name": "HBoxModel",
            "_view_count": null,
            "_view_module": "@jupyter-widgets/controls",
            "_view_module_version": "1.5.0",
            "_view_name": "HBoxView",
            "box_style": "",
            "children": [
              "IPY_MODEL_d1405a3e899f4891be54f4024edfe72e",
              "IPY_MODEL_534dbdd034ef4d118e473387ec2666cf",
              "IPY_MODEL_b2128903b19a40198e63f8f70563f573"
            ],
            "layout": "IPY_MODEL_8cde3069eb5843fc8912dc08ac640bd4"
          }
        },
        "d1405a3e899f4891be54f4024edfe72e": {
          "model_module": "@jupyter-widgets/controls",
          "model_name": "HTMLModel",
          "model_module_version": "1.5.0",
          "state": {
            "_dom_classes": [],
            "_model_module": "@jupyter-widgets/controls",
            "_model_module_version": "1.5.0",
            "_model_name": "HTMLModel",
            "_view_count": null,
            "_view_module": "@jupyter-widgets/controls",
            "_view_module_version": "1.5.0",
            "_view_name": "HTMLView",
            "description": "",
            "description_tooltip": null,
            "layout": "IPY_MODEL_0475ac3f73bd4a38b6ccb13c9aea82cb",
            "placeholder": "​",
            "style": "IPY_MODEL_42104efc29c74883bd96a3c4c6a29634",
            "value": "Downloading: 100%"
          }
        },
        "534dbdd034ef4d118e473387ec2666cf": {
          "model_module": "@jupyter-widgets/controls",
          "model_name": "FloatProgressModel",
          "model_module_version": "1.5.0",
          "state": {
            "_dom_classes": [],
            "_model_module": "@jupyter-widgets/controls",
            "_model_module_version": "1.5.0",
            "_model_name": "FloatProgressModel",
            "_view_count": null,
            "_view_module": "@jupyter-widgets/controls",
            "_view_module_version": "1.5.0",
            "_view_name": "ProgressView",
            "bar_style": "success",
            "description": "",
            "description_tooltip": null,
            "layout": "IPY_MODEL_b434768addcd4d0eb1d4b28e75a47fc5",
            "max": 267844284,
            "min": 0,
            "orientation": "horizontal",
            "style": "IPY_MODEL_0fb9a28b8d7e45ddb76877eaa7562e8e",
            "value": 267844284
          }
        },
        "b2128903b19a40198e63f8f70563f573": {
          "model_module": "@jupyter-widgets/controls",
          "model_name": "HTMLModel",
          "model_module_version": "1.5.0",
          "state": {
            "_dom_classes": [],
            "_model_module": "@jupyter-widgets/controls",
            "_model_module_version": "1.5.0",
            "_model_name": "HTMLModel",
            "_view_count": null,
            "_view_module": "@jupyter-widgets/controls",
            "_view_module_version": "1.5.0",
            "_view_name": "HTMLView",
            "description": "",
            "description_tooltip": null,
            "layout": "IPY_MODEL_d8b8bc4cecfc4694bd255d2a2837ba99",
            "placeholder": "​",
            "style": "IPY_MODEL_e9c1b205ee2f4e93bfaed09120908c3c",
            "value": " 255M/255M [00:06&lt;00:00, 29.1MB/s]"
          }
        },
        "8cde3069eb5843fc8912dc08ac640bd4": {
          "model_module": "@jupyter-widgets/base",
          "model_name": "LayoutModel",
          "model_module_version": "1.2.0",
          "state": {
            "_model_module": "@jupyter-widgets/base",
            "_model_module_version": "1.2.0",
            "_model_name": "LayoutModel",
            "_view_count": null,
            "_view_module": "@jupyter-widgets/base",
            "_view_module_version": "1.2.0",
            "_view_name": "LayoutView",
            "align_content": null,
            "align_items": null,
            "align_self": null,
            "border": null,
            "bottom": null,
            "display": null,
            "flex": null,
            "flex_flow": null,
            "grid_area": null,
            "grid_auto_columns": null,
            "grid_auto_flow": null,
            "grid_auto_rows": null,
            "grid_column": null,
            "grid_gap": null,
            "grid_row": null,
            "grid_template_areas": null,
            "grid_template_columns": null,
            "grid_template_rows": null,
            "height": null,
            "justify_content": null,
            "justify_items": null,
            "left": null,
            "margin": null,
            "max_height": null,
            "max_width": null,
            "min_height": null,
            "min_width": null,
            "object_fit": null,
            "object_position": null,
            "order": null,
            "overflow": null,
            "overflow_x": null,
            "overflow_y": null,
            "padding": null,
            "right": null,
            "top": null,
            "visibility": null,
            "width": null
          }
        },
        "0475ac3f73bd4a38b6ccb13c9aea82cb": {
          "model_module": "@jupyter-widgets/base",
          "model_name": "LayoutModel",
          "model_module_version": "1.2.0",
          "state": {
            "_model_module": "@jupyter-widgets/base",
            "_model_module_version": "1.2.0",
            "_model_name": "LayoutModel",
            "_view_count": null,
            "_view_module": "@jupyter-widgets/base",
            "_view_module_version": "1.2.0",
            "_view_name": "LayoutView",
            "align_content": null,
            "align_items": null,
            "align_self": null,
            "border": null,
            "bottom": null,
            "display": null,
            "flex": null,
            "flex_flow": null,
            "grid_area": null,
            "grid_auto_columns": null,
            "grid_auto_flow": null,
            "grid_auto_rows": null,
            "grid_column": null,
            "grid_gap": null,
            "grid_row": null,
            "grid_template_areas": null,
            "grid_template_columns": null,
            "grid_template_rows": null,
            "height": null,
            "justify_content": null,
            "justify_items": null,
            "left": null,
            "margin": null,
            "max_height": null,
            "max_width": null,
            "min_height": null,
            "min_width": null,
            "object_fit": null,
            "object_position": null,
            "order": null,
            "overflow": null,
            "overflow_x": null,
            "overflow_y": null,
            "padding": null,
            "right": null,
            "top": null,
            "visibility": null,
            "width": null
          }
        },
        "42104efc29c74883bd96a3c4c6a29634": {
          "model_module": "@jupyter-widgets/controls",
          "model_name": "DescriptionStyleModel",
          "model_module_version": "1.5.0",
          "state": {
            "_model_module": "@jupyter-widgets/controls",
            "_model_module_version": "1.5.0",
            "_model_name": "DescriptionStyleModel",
            "_view_count": null,
            "_view_module": "@jupyter-widgets/base",
            "_view_module_version": "1.2.0",
            "_view_name": "StyleView",
            "description_width": ""
          }
        },
        "b434768addcd4d0eb1d4b28e75a47fc5": {
          "model_module": "@jupyter-widgets/base",
          "model_name": "LayoutModel",
          "model_module_version": "1.2.0",
          "state": {
            "_model_module": "@jupyter-widgets/base",
            "_model_module_version": "1.2.0",
            "_model_name": "LayoutModel",
            "_view_count": null,
            "_view_module": "@jupyter-widgets/base",
            "_view_module_version": "1.2.0",
            "_view_name": "LayoutView",
            "align_content": null,
            "align_items": null,
            "align_self": null,
            "border": null,
            "bottom": null,
            "display": null,
            "flex": null,
            "flex_flow": null,
            "grid_area": null,
            "grid_auto_columns": null,
            "grid_auto_flow": null,
            "grid_auto_rows": null,
            "grid_column": null,
            "grid_gap": null,
            "grid_row": null,
            "grid_template_areas": null,
            "grid_template_columns": null,
            "grid_template_rows": null,
            "height": null,
            "justify_content": null,
            "justify_items": null,
            "left": null,
            "margin": null,
            "max_height": null,
            "max_width": null,
            "min_height": null,
            "min_width": null,
            "object_fit": null,
            "object_position": null,
            "order": null,
            "overflow": null,
            "overflow_x": null,
            "overflow_y": null,
            "padding": null,
            "right": null,
            "top": null,
            "visibility": null,
            "width": null
          }
        },
        "0fb9a28b8d7e45ddb76877eaa7562e8e": {
          "model_module": "@jupyter-widgets/controls",
          "model_name": "ProgressStyleModel",
          "model_module_version": "1.5.0",
          "state": {
            "_model_module": "@jupyter-widgets/controls",
            "_model_module_version": "1.5.0",
            "_model_name": "ProgressStyleModel",
            "_view_count": null,
            "_view_module": "@jupyter-widgets/base",
            "_view_module_version": "1.2.0",
            "_view_name": "StyleView",
            "bar_color": null,
            "description_width": ""
          }
        },
        "d8b8bc4cecfc4694bd255d2a2837ba99": {
          "model_module": "@jupyter-widgets/base",
          "model_name": "LayoutModel",
          "model_module_version": "1.2.0",
          "state": {
            "_model_module": "@jupyter-widgets/base",
            "_model_module_version": "1.2.0",
            "_model_name": "LayoutModel",
            "_view_count": null,
            "_view_module": "@jupyter-widgets/base",
            "_view_module_version": "1.2.0",
            "_view_name": "LayoutView",
            "align_content": null,
            "align_items": null,
            "align_self": null,
            "border": null,
            "bottom": null,
            "display": null,
            "flex": null,
            "flex_flow": null,
            "grid_area": null,
            "grid_auto_columns": null,
            "grid_auto_flow": null,
            "grid_auto_rows": null,
            "grid_column": null,
            "grid_gap": null,
            "grid_row": null,
            "grid_template_areas": null,
            "grid_template_columns": null,
            "grid_template_rows": null,
            "height": null,
            "justify_content": null,
            "justify_items": null,
            "left": null,
            "margin": null,
            "max_height": null,
            "max_width": null,
            "min_height": null,
            "min_width": null,
            "object_fit": null,
            "object_position": null,
            "order": null,
            "overflow": null,
            "overflow_x": null,
            "overflow_y": null,
            "padding": null,
            "right": null,
            "top": null,
            "visibility": null,
            "width": null
          }
        },
        "e9c1b205ee2f4e93bfaed09120908c3c": {
          "model_module": "@jupyter-widgets/controls",
          "model_name": "DescriptionStyleModel",
          "model_module_version": "1.5.0",
          "state": {
            "_model_module": "@jupyter-widgets/controls",
            "_model_module_version": "1.5.0",
            "_model_name": "DescriptionStyleModel",
            "_view_count": null,
            "_view_module": "@jupyter-widgets/base",
            "_view_module_version": "1.2.0",
            "_view_name": "StyleView",
            "description_width": ""
          }
        },
        "7d7a800ff1ff46bd8cc0cc162967564c": {
          "model_module": "@jupyter-widgets/controls",
          "model_name": "HBoxModel",
          "model_module_version": "1.5.0",
          "state": {
            "_dom_classes": [],
            "_model_module": "@jupyter-widgets/controls",
            "_model_module_version": "1.5.0",
            "_model_name": "HBoxModel",
            "_view_count": null,
            "_view_module": "@jupyter-widgets/controls",
            "_view_module_version": "1.5.0",
            "_view_name": "HBoxView",
            "box_style": "",
            "children": [
              "IPY_MODEL_d845a0bf339b417bab41e0e18a930fc2",
              "IPY_MODEL_9c806a2ebf69421f98f59174a44ea17a",
              "IPY_MODEL_7a042b47bd7a47ae92a1d6b2d2ad54a1"
            ],
            "layout": "IPY_MODEL_ef48617534cd485285bab839fe972ee5"
          }
        },
        "d845a0bf339b417bab41e0e18a930fc2": {
          "model_module": "@jupyter-widgets/controls",
          "model_name": "HTMLModel",
          "model_module_version": "1.5.0",
          "state": {
            "_dom_classes": [],
            "_model_module": "@jupyter-widgets/controls",
            "_model_module_version": "1.5.0",
            "_model_name": "HTMLModel",
            "_view_count": null,
            "_view_module": "@jupyter-widgets/controls",
            "_view_module_version": "1.5.0",
            "_view_name": "HTMLView",
            "description": "",
            "description_tooltip": null,
            "layout": "IPY_MODEL_f1c3668254aa460fbaea57c3edacbe6f",
            "placeholder": "​",
            "style": "IPY_MODEL_87b11d37df0a418db8eb4fa0564151cf",
            "value": "Downloading: 100%"
          }
        },
        "9c806a2ebf69421f98f59174a44ea17a": {
          "model_module": "@jupyter-widgets/controls",
          "model_name": "FloatProgressModel",
          "model_module_version": "1.5.0",
          "state": {
            "_dom_classes": [],
            "_model_module": "@jupyter-widgets/controls",
            "_model_module_version": "1.5.0",
            "_model_name": "FloatProgressModel",
            "_view_count": null,
            "_view_module": "@jupyter-widgets/controls",
            "_view_module_version": "1.5.0",
            "_view_name": "ProgressView",
            "bar_style": "success",
            "description": "",
            "description_tooltip": null,
            "layout": "IPY_MODEL_1ed056def7a5443ba5db5cb4cb7e3f62",
            "max": 48,
            "min": 0,
            "orientation": "horizontal",
            "style": "IPY_MODEL_60d38e7fe34e4a998cd7194578ac8da7",
            "value": 48
          }
        },
        "7a042b47bd7a47ae92a1d6b2d2ad54a1": {
          "model_module": "@jupyter-widgets/controls",
          "model_name": "HTMLModel",
          "model_module_version": "1.5.0",
          "state": {
            "_dom_classes": [],
            "_model_module": "@jupyter-widgets/controls",
            "_model_module_version": "1.5.0",
            "_model_name": "HTMLModel",
            "_view_count": null,
            "_view_module": "@jupyter-widgets/controls",
            "_view_module_version": "1.5.0",
            "_view_name": "HTMLView",
            "description": "",
            "description_tooltip": null,
            "layout": "IPY_MODEL_498afeeef1564d3fbf4fadfa191ca6ed",
            "placeholder": "​",
            "style": "IPY_MODEL_27749d2e07dd41a0a09a28cdb10816a2",
            "value": " 48.0/48.0 [00:00&lt;00:00, 1.55kB/s]"
          }
        },
        "ef48617534cd485285bab839fe972ee5": {
          "model_module": "@jupyter-widgets/base",
          "model_name": "LayoutModel",
          "model_module_version": "1.2.0",
          "state": {
            "_model_module": "@jupyter-widgets/base",
            "_model_module_version": "1.2.0",
            "_model_name": "LayoutModel",
            "_view_count": null,
            "_view_module": "@jupyter-widgets/base",
            "_view_module_version": "1.2.0",
            "_view_name": "LayoutView",
            "align_content": null,
            "align_items": null,
            "align_self": null,
            "border": null,
            "bottom": null,
            "display": null,
            "flex": null,
            "flex_flow": null,
            "grid_area": null,
            "grid_auto_columns": null,
            "grid_auto_flow": null,
            "grid_auto_rows": null,
            "grid_column": null,
            "grid_gap": null,
            "grid_row": null,
            "grid_template_areas": null,
            "grid_template_columns": null,
            "grid_template_rows": null,
            "height": null,
            "justify_content": null,
            "justify_items": null,
            "left": null,
            "margin": null,
            "max_height": null,
            "max_width": null,
            "min_height": null,
            "min_width": null,
            "object_fit": null,
            "object_position": null,
            "order": null,
            "overflow": null,
            "overflow_x": null,
            "overflow_y": null,
            "padding": null,
            "right": null,
            "top": null,
            "visibility": null,
            "width": null
          }
        },
        "f1c3668254aa460fbaea57c3edacbe6f": {
          "model_module": "@jupyter-widgets/base",
          "model_name": "LayoutModel",
          "model_module_version": "1.2.0",
          "state": {
            "_model_module": "@jupyter-widgets/base",
            "_model_module_version": "1.2.0",
            "_model_name": "LayoutModel",
            "_view_count": null,
            "_view_module": "@jupyter-widgets/base",
            "_view_module_version": "1.2.0",
            "_view_name": "LayoutView",
            "align_content": null,
            "align_items": null,
            "align_self": null,
            "border": null,
            "bottom": null,
            "display": null,
            "flex": null,
            "flex_flow": null,
            "grid_area": null,
            "grid_auto_columns": null,
            "grid_auto_flow": null,
            "grid_auto_rows": null,
            "grid_column": null,
            "grid_gap": null,
            "grid_row": null,
            "grid_template_areas": null,
            "grid_template_columns": null,
            "grid_template_rows": null,
            "height": null,
            "justify_content": null,
            "justify_items": null,
            "left": null,
            "margin": null,
            "max_height": null,
            "max_width": null,
            "min_height": null,
            "min_width": null,
            "object_fit": null,
            "object_position": null,
            "order": null,
            "overflow": null,
            "overflow_x": null,
            "overflow_y": null,
            "padding": null,
            "right": null,
            "top": null,
            "visibility": null,
            "width": null
          }
        },
        "87b11d37df0a418db8eb4fa0564151cf": {
          "model_module": "@jupyter-widgets/controls",
          "model_name": "DescriptionStyleModel",
          "model_module_version": "1.5.0",
          "state": {
            "_model_module": "@jupyter-widgets/controls",
            "_model_module_version": "1.5.0",
            "_model_name": "DescriptionStyleModel",
            "_view_count": null,
            "_view_module": "@jupyter-widgets/base",
            "_view_module_version": "1.2.0",
            "_view_name": "StyleView",
            "description_width": ""
          }
        },
        "1ed056def7a5443ba5db5cb4cb7e3f62": {
          "model_module": "@jupyter-widgets/base",
          "model_name": "LayoutModel",
          "model_module_version": "1.2.0",
          "state": {
            "_model_module": "@jupyter-widgets/base",
            "_model_module_version": "1.2.0",
            "_model_name": "LayoutModel",
            "_view_count": null,
            "_view_module": "@jupyter-widgets/base",
            "_view_module_version": "1.2.0",
            "_view_name": "LayoutView",
            "align_content": null,
            "align_items": null,
            "align_self": null,
            "border": null,
            "bottom": null,
            "display": null,
            "flex": null,
            "flex_flow": null,
            "grid_area": null,
            "grid_auto_columns": null,
            "grid_auto_flow": null,
            "grid_auto_rows": null,
            "grid_column": null,
            "grid_gap": null,
            "grid_row": null,
            "grid_template_areas": null,
            "grid_template_columns": null,
            "grid_template_rows": null,
            "height": null,
            "justify_content": null,
            "justify_items": null,
            "left": null,
            "margin": null,
            "max_height": null,
            "max_width": null,
            "min_height": null,
            "min_width": null,
            "object_fit": null,
            "object_position": null,
            "order": null,
            "overflow": null,
            "overflow_x": null,
            "overflow_y": null,
            "padding": null,
            "right": null,
            "top": null,
            "visibility": null,
            "width": null
          }
        },
        "60d38e7fe34e4a998cd7194578ac8da7": {
          "model_module": "@jupyter-widgets/controls",
          "model_name": "ProgressStyleModel",
          "model_module_version": "1.5.0",
          "state": {
            "_model_module": "@jupyter-widgets/controls",
            "_model_module_version": "1.5.0",
            "_model_name": "ProgressStyleModel",
            "_view_count": null,
            "_view_module": "@jupyter-widgets/base",
            "_view_module_version": "1.2.0",
            "_view_name": "StyleView",
            "bar_color": null,
            "description_width": ""
          }
        },
        "498afeeef1564d3fbf4fadfa191ca6ed": {
          "model_module": "@jupyter-widgets/base",
          "model_name": "LayoutModel",
          "model_module_version": "1.2.0",
          "state": {
            "_model_module": "@jupyter-widgets/base",
            "_model_module_version": "1.2.0",
            "_model_name": "LayoutModel",
            "_view_count": null,
            "_view_module": "@jupyter-widgets/base",
            "_view_module_version": "1.2.0",
            "_view_name": "LayoutView",
            "align_content": null,
            "align_items": null,
            "align_self": null,
            "border": null,
            "bottom": null,
            "display": null,
            "flex": null,
            "flex_flow": null,
            "grid_area": null,
            "grid_auto_columns": null,
            "grid_auto_flow": null,
            "grid_auto_rows": null,
            "grid_column": null,
            "grid_gap": null,
            "grid_row": null,
            "grid_template_areas": null,
            "grid_template_columns": null,
            "grid_template_rows": null,
            "height": null,
            "justify_content": null,
            "justify_items": null,
            "left": null,
            "margin": null,
            "max_height": null,
            "max_width": null,
            "min_height": null,
            "min_width": null,
            "object_fit": null,
            "object_position": null,
            "order": null,
            "overflow": null,
            "overflow_x": null,
            "overflow_y": null,
            "padding": null,
            "right": null,
            "top": null,
            "visibility": null,
            "width": null
          }
        },
        "27749d2e07dd41a0a09a28cdb10816a2": {
          "model_module": "@jupyter-widgets/controls",
          "model_name": "DescriptionStyleModel",
          "model_module_version": "1.5.0",
          "state": {
            "_model_module": "@jupyter-widgets/controls",
            "_model_module_version": "1.5.0",
            "_model_name": "DescriptionStyleModel",
            "_view_count": null,
            "_view_module": "@jupyter-widgets/base",
            "_view_module_version": "1.2.0",
            "_view_name": "StyleView",
            "description_width": ""
          }
        },
        "1be2e891413748c1a5181854155e1e4d": {
          "model_module": "@jupyter-widgets/controls",
          "model_name": "HBoxModel",
          "model_module_version": "1.5.0",
          "state": {
            "_dom_classes": [],
            "_model_module": "@jupyter-widgets/controls",
            "_model_module_version": "1.5.0",
            "_model_name": "HBoxModel",
            "_view_count": null,
            "_view_module": "@jupyter-widgets/controls",
            "_view_module_version": "1.5.0",
            "_view_name": "HBoxView",
            "box_style": "",
            "children": [
              "IPY_MODEL_527743154200498fadc7c0c0c2ea6f02",
              "IPY_MODEL_fb4fabb9c81f49faaf878b0723bf2acb",
              "IPY_MODEL_a8218905722545f5bda88492d36ff362"
            ],
            "layout": "IPY_MODEL_01f9063a9d8c4626873567fd9b8a0c3e"
          }
        },
        "527743154200498fadc7c0c0c2ea6f02": {
          "model_module": "@jupyter-widgets/controls",
          "model_name": "HTMLModel",
          "model_module_version": "1.5.0",
          "state": {
            "_dom_classes": [],
            "_model_module": "@jupyter-widgets/controls",
            "_model_module_version": "1.5.0",
            "_model_name": "HTMLModel",
            "_view_count": null,
            "_view_module": "@jupyter-widgets/controls",
            "_view_module_version": "1.5.0",
            "_view_name": "HTMLView",
            "description": "",
            "description_tooltip": null,
            "layout": "IPY_MODEL_292d4b714c384d87b69aeeb29cd6031a",
            "placeholder": "​",
            "style": "IPY_MODEL_13c657b13ed44a369c74a5140dd768e9",
            "value": "Downloading: 100%"
          }
        },
        "fb4fabb9c81f49faaf878b0723bf2acb": {
          "model_module": "@jupyter-widgets/controls",
          "model_name": "FloatProgressModel",
          "model_module_version": "1.5.0",
          "state": {
            "_dom_classes": [],
            "_model_module": "@jupyter-widgets/controls",
            "_model_module_version": "1.5.0",
            "_model_name": "FloatProgressModel",
            "_view_count": null,
            "_view_module": "@jupyter-widgets/controls",
            "_view_module_version": "1.5.0",
            "_view_name": "ProgressView",
            "bar_style": "success",
            "description": "",
            "description_tooltip": null,
            "layout": "IPY_MODEL_f6175939a07545d291a11de686a17af1",
            "max": 231508,
            "min": 0,
            "orientation": "horizontal",
            "style": "IPY_MODEL_4d4261ecfdfb4af89c628a79ad16de75",
            "value": 231508
          }
        },
        "a8218905722545f5bda88492d36ff362": {
          "model_module": "@jupyter-widgets/controls",
          "model_name": "HTMLModel",
          "model_module_version": "1.5.0",
          "state": {
            "_dom_classes": [],
            "_model_module": "@jupyter-widgets/controls",
            "_model_module_version": "1.5.0",
            "_model_name": "HTMLModel",
            "_view_count": null,
            "_view_module": "@jupyter-widgets/controls",
            "_view_module_version": "1.5.0",
            "_view_name": "HTMLView",
            "description": "",
            "description_tooltip": null,
            "layout": "IPY_MODEL_22c63361b9b74f7bb139cc48e0f5904b",
            "placeholder": "​",
            "style": "IPY_MODEL_de7c626320d444e89e0876c9da9419ba",
            "value": " 226k/226k [00:00&lt;00:00, 662kB/s]"
          }
        },
        "01f9063a9d8c4626873567fd9b8a0c3e": {
          "model_module": "@jupyter-widgets/base",
          "model_name": "LayoutModel",
          "model_module_version": "1.2.0",
          "state": {
            "_model_module": "@jupyter-widgets/base",
            "_model_module_version": "1.2.0",
            "_model_name": "LayoutModel",
            "_view_count": null,
            "_view_module": "@jupyter-widgets/base",
            "_view_module_version": "1.2.0",
            "_view_name": "LayoutView",
            "align_content": null,
            "align_items": null,
            "align_self": null,
            "border": null,
            "bottom": null,
            "display": null,
            "flex": null,
            "flex_flow": null,
            "grid_area": null,
            "grid_auto_columns": null,
            "grid_auto_flow": null,
            "grid_auto_rows": null,
            "grid_column": null,
            "grid_gap": null,
            "grid_row": null,
            "grid_template_areas": null,
            "grid_template_columns": null,
            "grid_template_rows": null,
            "height": null,
            "justify_content": null,
            "justify_items": null,
            "left": null,
            "margin": null,
            "max_height": null,
            "max_width": null,
            "min_height": null,
            "min_width": null,
            "object_fit": null,
            "object_position": null,
            "order": null,
            "overflow": null,
            "overflow_x": null,
            "overflow_y": null,
            "padding": null,
            "right": null,
            "top": null,
            "visibility": null,
            "width": null
          }
        },
        "292d4b714c384d87b69aeeb29cd6031a": {
          "model_module": "@jupyter-widgets/base",
          "model_name": "LayoutModel",
          "model_module_version": "1.2.0",
          "state": {
            "_model_module": "@jupyter-widgets/base",
            "_model_module_version": "1.2.0",
            "_model_name": "LayoutModel",
            "_view_count": null,
            "_view_module": "@jupyter-widgets/base",
            "_view_module_version": "1.2.0",
            "_view_name": "LayoutView",
            "align_content": null,
            "align_items": null,
            "align_self": null,
            "border": null,
            "bottom": null,
            "display": null,
            "flex": null,
            "flex_flow": null,
            "grid_area": null,
            "grid_auto_columns": null,
            "grid_auto_flow": null,
            "grid_auto_rows": null,
            "grid_column": null,
            "grid_gap": null,
            "grid_row": null,
            "grid_template_areas": null,
            "grid_template_columns": null,
            "grid_template_rows": null,
            "height": null,
            "justify_content": null,
            "justify_items": null,
            "left": null,
            "margin": null,
            "max_height": null,
            "max_width": null,
            "min_height": null,
            "min_width": null,
            "object_fit": null,
            "object_position": null,
            "order": null,
            "overflow": null,
            "overflow_x": null,
            "overflow_y": null,
            "padding": null,
            "right": null,
            "top": null,
            "visibility": null,
            "width": null
          }
        },
        "13c657b13ed44a369c74a5140dd768e9": {
          "model_module": "@jupyter-widgets/controls",
          "model_name": "DescriptionStyleModel",
          "model_module_version": "1.5.0",
          "state": {
            "_model_module": "@jupyter-widgets/controls",
            "_model_module_version": "1.5.0",
            "_model_name": "DescriptionStyleModel",
            "_view_count": null,
            "_view_module": "@jupyter-widgets/base",
            "_view_module_version": "1.2.0",
            "_view_name": "StyleView",
            "description_width": ""
          }
        },
        "f6175939a07545d291a11de686a17af1": {
          "model_module": "@jupyter-widgets/base",
          "model_name": "LayoutModel",
          "model_module_version": "1.2.0",
          "state": {
            "_model_module": "@jupyter-widgets/base",
            "_model_module_version": "1.2.0",
            "_model_name": "LayoutModel",
            "_view_count": null,
            "_view_module": "@jupyter-widgets/base",
            "_view_module_version": "1.2.0",
            "_view_name": "LayoutView",
            "align_content": null,
            "align_items": null,
            "align_self": null,
            "border": null,
            "bottom": null,
            "display": null,
            "flex": null,
            "flex_flow": null,
            "grid_area": null,
            "grid_auto_columns": null,
            "grid_auto_flow": null,
            "grid_auto_rows": null,
            "grid_column": null,
            "grid_gap": null,
            "grid_row": null,
            "grid_template_areas": null,
            "grid_template_columns": null,
            "grid_template_rows": null,
            "height": null,
            "justify_content": null,
            "justify_items": null,
            "left": null,
            "margin": null,
            "max_height": null,
            "max_width": null,
            "min_height": null,
            "min_width": null,
            "object_fit": null,
            "object_position": null,
            "order": null,
            "overflow": null,
            "overflow_x": null,
            "overflow_y": null,
            "padding": null,
            "right": null,
            "top": null,
            "visibility": null,
            "width": null
          }
        },
        "4d4261ecfdfb4af89c628a79ad16de75": {
          "model_module": "@jupyter-widgets/controls",
          "model_name": "ProgressStyleModel",
          "model_module_version": "1.5.0",
          "state": {
            "_model_module": "@jupyter-widgets/controls",
            "_model_module_version": "1.5.0",
            "_model_name": "ProgressStyleModel",
            "_view_count": null,
            "_view_module": "@jupyter-widgets/base",
            "_view_module_version": "1.2.0",
            "_view_name": "StyleView",
            "bar_color": null,
            "description_width": ""
          }
        },
        "22c63361b9b74f7bb139cc48e0f5904b": {
          "model_module": "@jupyter-widgets/base",
          "model_name": "LayoutModel",
          "model_module_version": "1.2.0",
          "state": {
            "_model_module": "@jupyter-widgets/base",
            "_model_module_version": "1.2.0",
            "_model_name": "LayoutModel",
            "_view_count": null,
            "_view_module": "@jupyter-widgets/base",
            "_view_module_version": "1.2.0",
            "_view_name": "LayoutView",
            "align_content": null,
            "align_items": null,
            "align_self": null,
            "border": null,
            "bottom": null,
            "display": null,
            "flex": null,
            "flex_flow": null,
            "grid_area": null,
            "grid_auto_columns": null,
            "grid_auto_flow": null,
            "grid_auto_rows": null,
            "grid_column": null,
            "grid_gap": null,
            "grid_row": null,
            "grid_template_areas": null,
            "grid_template_columns": null,
            "grid_template_rows": null,
            "height": null,
            "justify_content": null,
            "justify_items": null,
            "left": null,
            "margin": null,
            "max_height": null,
            "max_width": null,
            "min_height": null,
            "min_width": null,
            "object_fit": null,
            "object_position": null,
            "order": null,
            "overflow": null,
            "overflow_x": null,
            "overflow_y": null,
            "padding": null,
            "right": null,
            "top": null,
            "visibility": null,
            "width": null
          }
        },
        "de7c626320d444e89e0876c9da9419ba": {
          "model_module": "@jupyter-widgets/controls",
          "model_name": "DescriptionStyleModel",
          "model_module_version": "1.5.0",
          "state": {
            "_model_module": "@jupyter-widgets/controls",
            "_model_module_version": "1.5.0",
            "_model_name": "DescriptionStyleModel",
            "_view_count": null,
            "_view_module": "@jupyter-widgets/base",
            "_view_module_version": "1.2.0",
            "_view_name": "StyleView",
            "description_width": ""
          }
        }
      }
    }
  },
  "nbformat": 4,
  "nbformat_minor": 0
}
